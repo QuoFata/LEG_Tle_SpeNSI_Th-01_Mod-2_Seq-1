{
  "nbformat": 4,
  "nbformat_minor": 0,
  "metadata": {
    "colab": {
      "name": "Exemple-theatre.ipynb",
      "provenance": []
    },
    "kernelspec": {
      "name": "python3",
      "display_name": "Python 3"
    }
  },
  "cells": [
    {
      "cell_type": "markdown",
      "metadata": {
        "id": "Zm6BfCzQwDyv"
      },
      "source": [
        "<h1><b>Thème 1 - Structure de données</b></h1>"
      ]
    },
    {
      "cell_type": "markdown",
      "metadata": {
        "id": "Kzr4icdgwGNi"
      },
      "source": [
        "<h2>Module 2 - Structure linéaire et tableau associatif</h2>"
      ]
    },
    {
      "cell_type": "markdown",
      "metadata": {
        "id": "3-oE4uYEwWr4"
      },
      "source": [
        "<h3><em>Séquence 1 - Etude d'une exemple</em></h3>"
      ]
    },
    {
      "cell_type": "markdown",
      "metadata": {
        "id": "5vzPjpc7wQ9a"
      },
      "source": [
        "<p>\n",
        "Monsieur Coptaire Élie est un metteur en scène de théâtre très méthodique.\n",
        "</p>\n",
        "<p>\n",
        "A la fin de la représentation il tient à ce que la présentation des acteurs sur scène soit impeccablement orchestrée.\n",
        "</p>\n",
        "<p>\n",
        "Les acteurs entrent sur scène les uns après les autres et doivent se placer les uns à côté des autres à l’avant de la scène dans un ordre précis.\n",
        "</p>\n",
        "<p>\n",
        "Leur entrée sur scène se fait :\n",
        "</p>\n",
        "<p>\n",
        "<ul>\n",
        "<li>ou bien par le côté cour qui désigne le côté droit de la scène, vu de la salle,\n",
        "</li>\n",
        "<li>ou bien du côté jardin, qui, lui, désigne le côté gauche\n",
        "</li>\n",
        "<li>ou encore par le fond de la scène.\n",
        "</li>\n",
        "<ul>\n",
        "</p>"
      ]
    },
    {
      "cell_type": "markdown",
      "metadata": {
        "id": "nGktA-7QyooS"
      },
      "source": [
        "<p>\n",
        "Puis à tour de rôle chaque acteur présente celui qui se trouve à sa droite. L’acteur qui est présenté doit fait deux pas en avant quand il entend le nom de son personnage, puis reculer de deux pas pour rejoindre le rang à la fin des applaudissements. Le dernier acteur de la rangée est chargé de présenter le premier.\n",
        "</p>"
      ]
    },
    {
      "cell_type": "markdown",
      "metadata": {
        "id": "lmDOkK9JyqQ7"
      },
      "source": [
        "<blockquote><b>Afin de de rien laisser au hasard il a implémenté en Python un petit algorithme que vous allez devoir étudier.<b></blockquote>"
      ]
    },
    {
      "cell_type": "code",
      "metadata": {
        "id": "78MeKhhlvvAA"
      },
      "source": [
        "# Veuillez importer dans l'espace de stockage de la session \n",
        "# le fichier \"FinalPieceTheatre.py\" \n",
        "# avant de lancer l'exécution du script qui suit\n",
        "\n",
        "from FinalPieceTheatre import *\n",
        "\n",
        "# Prénom et NOM du personnage sur scène, suivi du prénom et du NOM de l'acteur\n",
        "acteur1=(\"A1\",\"Debby SCOTT\",\"Aimée NAIMES\",())\n",
        "acteur2=(\"A2\",\"Alain DISSOIR\",\"Jean CIVE\",())\n",
        "acteur3=(\"A3\",\"Sarah FRAICHI\",\"Donna MEMELABABALE\",())\n",
        "acteur4=(\"A4\",\"Sophie FONFEC\",\"Agathe ZEBLOUZE\",())\n",
        "acteur5=(\"A5\",\"Cécile VAISTAIRSTALONE \",\"Mylène MICOTON\",())\n",
        "acteur6=(\"A6\",\"Gérard MANSOIF\",\"Guy DONDEVELO\",())\n",
        "acteur7=(\"A7\",\"Anna-Lise DURINE\",\"Sarah VIGOTTE\",())\n",
        "\n",
        "# La mise en place va bientôt commencer...\n",
        "rang=()\n",
        "afficheRang(rang)"
      ],
      "execution_count": null,
      "outputs": []
    },
    {
      "cell_type": "markdown",
      "metadata": {
        "id": "8HfdX7Dt0P1u"
      },
      "source": [
        "<cite>Entrée de l'acteur 5 du fond de scène qui vient se placer au devant de la scène</cite>"
      ]
    },
    {
      "cell_type": "code",
      "metadata": {
        "id": "zooG5CND1WVP"
      },
      "source": [
        "apres=\"\" # cet acteur étant le premier à entrer sur scène, il ne se place 'après' aucun autre acteur \n",
        "rang=miseEnPlace(rang,apres,acteur5)\n",
        "afficheRang(rang)"
      ],
      "execution_count": null,
      "outputs": []
    },
    {
      "cell_type": "markdown",
      "metadata": {
        "id": "MisGUAFE1fac"
      },
      "source": [
        "<cite>Entrée de l'acteur 3 côté cour qui vient se placer à gauche (vue du public) de l'acteur 5</cite>"
      ]
    },
    {
      "cell_type": "code",
      "metadata": {
        "id": "3LiBODLt1vwd"
      },
      "source": [
        "apres=\"\" # cet acteur venant se placer à gauche du premier, il ne se place 'après' aucun autre acteur \n",
        "rang=miseEnPlace(rang,apres,acteur3)\n",
        "afficheRang(rang)"
      ],
      "execution_count": null,
      "outputs": []
    },
    {
      "cell_type": "markdown",
      "metadata": {
        "id": "6ocbPu1i2_Xz"
      },
      "source": [
        "<cite>Entrée de l'acteur 2 côté jardin qui vient se placer à droite (vue du public) de l'acteur 5</cite>"
      ]
    },
    {
      "cell_type": "code",
      "metadata": {
        "id": "bqF1us2a3IgX"
      },
      "source": [
        "apres=\"A5\"\n",
        "rang=miseEnPlace(rang,apres,acteur2)\n",
        "afficheRang(rang)"
      ],
      "execution_count": null,
      "outputs": []
    },
    {
      "cell_type": "markdown",
      "metadata": {
        "id": "f_Pi6v6a3yzD"
      },
      "source": [
        "<cite>Entrée de l'acteur 1 du fond de scène qui vient se placer après l'acteur 3</cite>"
      ]
    },
    {
      "cell_type": "code",
      "metadata": {
        "id": "Sud4wh8z4BgN"
      },
      "source": [
        "# Saisissez les instructions qui conviennent\n"
      ],
      "execution_count": null,
      "outputs": []
    },
    {
      "cell_type": "markdown",
      "metadata": {
        "id": "FwV-k-G44Z1P"
      },
      "source": [
        "<cite>Entrée de l'acteur 4 côté cour qui vient se placer à gauche de l'acteur 3</cite>"
      ]
    },
    {
      "cell_type": "code",
      "metadata": {
        "id": "KOhmLQsS4h5y"
      },
      "source": [
        "# Saisissez les instructions qui conviennent\n"
      ],
      "execution_count": null,
      "outputs": []
    },
    {
      "cell_type": "markdown",
      "metadata": {
        "id": "3IzKnEMp4yfT"
      },
      "source": [
        "<cite>Entrée de l'acteur 6 côté jardin qui vient se placer à droite de l'acteur 2</cite>"
      ]
    },
    {
      "cell_type": "code",
      "metadata": {
        "id": "4hiZL7v8448X"
      },
      "source": [
        "# Saisissez les instructions qui conviennent\n"
      ],
      "execution_count": null,
      "outputs": []
    },
    {
      "cell_type": "markdown",
      "metadata": {
        "id": "5APH_qY54_QE"
      },
      "source": [
        "<cite>Et pour finir, entrée de l'acteur 7 par le fond de scène qu vient se placer après l'acteur 1</cite>"
      ]
    },
    {
      "cell_type": "code",
      "metadata": {
        "id": "1eDIyHGy5ehR"
      },
      "source": [
        "# Saisissez les instructions qui conviennent\n"
      ],
      "execution_count": null,
      "outputs": []
    },
    {
      "cell_type": "markdown",
      "metadata": {
        "id": "oTMuii4QRoyU"
      },
      "source": [
        "<p>On cherche à déterminer \"de quelle manière sont organisées\" les informations qui déterminent le placement des acteurs dans le rang.</p>\n",
        "<b><em>Saisissez une instruction qui permet de la savoir.</em></p>"
      ]
    },
    {
      "cell_type": "code",
      "metadata": {
        "id": "-_9ZyfDKSkqx"
      },
      "source": [
        "# Saisissez l'instruction qui convient\n"
      ],
      "execution_count": null,
      "outputs": []
    },
    {
      "cell_type": "markdown",
      "metadata": {
        "id": "Eb6RC0neSr6D"
      },
      "source": [
        "La manière avec laquelle sont organisées\" les informations qui déterminent le placement des acteurs dans le rang correspond à une structure de données particulière que l'on appelle une <b>liste.</b>\n",
        "<em><ul>\n",
        "<li>Qu'est-ce qu'une liste ?</li>\n",
        "<li>Quelles en sont les caractéristiques ? </li>\n",
        "</ul></em>\n",
        "<b>Ecoutez les explications apportées par le professeur...</b>"
      ]
    },
    {
      "cell_type": "markdown",
      "metadata": {
        "id": "bSVycSjHTmcH"
      },
      "source": [
        "La présentation des acteurs est terminée. Ils doivent maintenant rejoindre les coulisses. Ils sortent du rang dans l'ordre inverse de leur arrivée et sortent de scène par la même issue que celle par laquelle ils sont entrés.\n",
        "Ecrivez et programmez en Python un algorithme qui va \"orchestrer\" cette sortie, pour le plus grand plaisir du metteur en scène, Coptaire Élie."
      ]
    },
    {
      "cell_type": "code",
      "metadata": {
        "id": "L_9yymNxUbWZ"
      },
      "source": [
        "# Ecrivez votre code en Python"
      ],
      "execution_count": null,
      "outputs": []
    }
  ]
}